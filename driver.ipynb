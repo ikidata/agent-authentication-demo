{
 "cells": [
  {
   "cell_type": "markdown",
   "metadata": {
    "application/vnd.databricks.v1+cell": {
     "cellMetadata": {},
     "inputWidgets": {},
     "nuid": "54b3abf0-8199-4435-920c-7937c4655512",
     "showTitle": false,
     "tableResultSettingsMap": {},
     "title": ""
    }
   },
   "source": [
    "#### Official Documentation: \n",
    "\n",
    "https://docs.databricks.com/aws/en/generative-ai/agent-framework/author-agent?language=Genie+Spaces#on-behalf-of-user-authentication"
   ]
  },
  {
   "cell_type": "code",
   "execution_count": 0,
   "metadata": {
    "application/vnd.databricks.v1+cell": {
     "cellMetadata": {},
     "inputWidgets": {},
     "nuid": "c903d589-279f-485d-9e54-f99c80448203",
     "showTitle": false,
     "tableResultSettingsMap": {},
     "title": ""
    }
   },
   "outputs": [],
   "source": [
    "!pip install databricks-sdk==0.55.0 mlflow==3.1.0 databricks-agents uv --quiet\n",
    "dbutils.library.restartPython()\n",
    "\n",
    "# There are some python library dependency problems due to mlflow 3.1. version - ignore those or use 2.22.0 if you don't like red"
   ]
  },
  {
   "cell_type": "code",
   "execution_count": 0,
   "metadata": {
    "application/vnd.databricks.v1+cell": {
     "cellMetadata": {},
     "inputWidgets": {},
     "nuid": "4cfbec7f-ea30-420a-b27c-0a6431774b27",
     "showTitle": false,
     "tableResultSettingsMap": {},
     "title": ""
    }
   },
   "outputs": [],
   "source": [
    "from agent import agent\n",
    "results = agent.predict({\"messages\": [{\"role\": \"user\", \"content\": \"How many data points there are in Genie?\"}]})"
   ]
  },
  {
   "cell_type": "code",
   "execution_count": 0,
   "metadata": {
    "application/vnd.databricks.v1+cell": {
     "cellMetadata": {},
     "inputWidgets": {},
     "nuid": "24d0d5ac-1912-469d-832d-22ee93a27d06",
     "showTitle": false,
     "tableResultSettingsMap": {},
     "title": ""
    }
   },
   "outputs": [],
   "source": [
    "### Keep in mind this isn't proper streaming solution - just to demonstrate using batch messages instead of real streaming\n",
    "for event in agent.predict_stream(\n",
    "    {\"messages\": [{\"role\": \"user\", \"content\": \"How many data points there are in Genie?\"}]}\n",
    "):\n",
    "    print(event, \"-----------\\n\")"
   ]
  },
  {
   "cell_type": "code",
   "execution_count": 0,
   "metadata": {
    "application/vnd.databricks.v1+cell": {
     "cellMetadata": {},
     "inputWidgets": {},
     "nuid": "293f1d5c-2dcc-4903-90b4-44709cf4172c",
     "showTitle": false,
     "tableResultSettingsMap": {},
     "title": ""
    }
   },
   "outputs": [],
   "source": [
    "# Determine Databricks resources to specify for automatic auth passthrough at deployment time\n",
    "import mlflow\n",
    "from mlflow.models.auth_policy import SystemAuthPolicy, UserAuthPolicy, AuthPolicy\n",
    "\n",
    "# Here you can see which resources are supported currently\n",
    "from mlflow.models.resources import (\n",
    "  DatabricksVectorSearchIndex,\n",
    "  DatabricksServingEndpoint,\n",
    "  DatabricksSQLWarehouse,\n",
    "  DatabricksFunction,\n",
    "  DatabricksGenieSpace,\n",
    "  DatabricksTable,\n",
    "  DatabricksUCConnection\n",
    ")\n",
    "\n",
    "# Import to fetch model name from config.py file\n",
    "from src.config import get_raw_configs\n",
    "\n",
    "\n",
    "###############\n",
    "# System Service Principal Auth\n",
    "###############\n",
    "resources = [DatabricksServingEndpoint(endpoint_name=get_raw_configs()['model_name'])]\n",
    "system_auth_policy = SystemAuthPolicy(resources=resources)\n",
    "\n",
    "###############\n",
    "# On-behalf-of-user authentication. \n",
    "# Remember to specify the API scopes needed for the agent to access Databricks resources\n",
    "###############\n",
    "\n",
    "# Here you could add more api_scopes but do not add extra unnecessary permissions unless it's being used\n",
    "user_auth_policy = UserAuthPolicy(\n",
    "    api_scopes=[\n",
    "        \"dashboards.genie\"\n",
    "    ]\n",
    ")\n",
    "\n",
    "input_example = {\n",
    "    \"messages\": [\n",
    "        {\n",
    "            \"role\": \"user\",\n",
    "            \"content\": \"How many data points there are in Genie?\"\n",
    "        }\n",
    "    ]\n",
    "}\n",
    "\n",
    "with mlflow.start_run():\n",
    "    logged_agent_info = mlflow.pyfunc.log_model(artifact_path='agent',\n",
    "       #name=\"agent\",\n",
    "        python_model=\"agent.py\",\n",
    "        code_paths=[\"./src\"],\n",
    "        input_example=input_example,\n",
    "        pip_requirements=[\n",
    "            \"mlflow==3.1.0\",\n",
    "            \"databricks-sdk==0.55.0\",\n",
    "            \"openai==1.69.0\",\n",
    "            \"pydantic\",\n",
    "        ],\n",
    "        auth_policy=AuthPolicy(\n",
    "            system_auth_policy=system_auth_policy,\n",
    "            user_auth_policy=user_auth_policy\n",
    "        )\n",
    "    )"
   ]
  },
  {
   "cell_type": "code",
   "execution_count": 0,
   "metadata": {
    "application/vnd.databricks.v1+cell": {
     "cellMetadata": {},
     "inputWidgets": {},
     "nuid": "e9b5b9ca-b521-4dea-acad-b54ea34b76a2",
     "showTitle": false,
     "tableResultSettingsMap": {},
     "title": ""
    }
   },
   "outputs": [],
   "source": [
    "mlflow.set_registry_uri(\"databricks-uc\")\n",
    "\n",
    "# TODO: define the catalog, schema, and model name for your UC model\n",
    "catalog = \"\"\n",
    "schema = \"\"\n",
    "model_name = \"genie_agent\"\n",
    "UC_MODEL_NAME = f\"{catalog}.{schema}.{model_name}\"\n",
    "\n",
    "# register the model to UC\n",
    "uc_registered_model_info = mlflow.register_model(\n",
    "    model_uri=logged_agent_info.model_uri, name=UC_MODEL_NAME\n",
    ")"
   ]
  },
  {
   "cell_type": "code",
   "execution_count": 0,
   "metadata": {
    "application/vnd.databricks.v1+cell": {
     "cellMetadata": {},
     "inputWidgets": {},
     "nuid": "c2d24059-103a-4a0c-a432-8a42f27b6939",
     "showTitle": false,
     "tableResultSettingsMap": {},
     "title": ""
    }
   },
   "outputs": [],
   "source": [
    "from databricks import agents\n",
    "agents.deploy(UC_MODEL_NAME, uc_registered_model_info.version, tags = {\"env\": \"demo\"})"
   ]
  },
  {
   "cell_type": "markdown",
   "metadata": {
    "application/vnd.databricks.v1+cell": {
     "cellMetadata": {},
     "inputWidgets": {},
     "nuid": "827a317b-df5f-4a48-89c2-972def4204d1",
     "showTitle": false,
     "tableResultSettingsMap": {},
     "title": ""
    }
   },
   "source": [
    "## Validate model serving endpoint works after it has been deployed"
   ]
  },
  {
   "cell_type": "code",
   "execution_count": 0,
   "metadata": {
    "application/vnd.databricks.v1+cell": {
     "cellMetadata": {},
     "inputWidgets": {},
     "nuid": "34b869bd-b28d-4ef5-a032-ccb3d0e89cd5",
     "showTitle": false,
     "tableResultSettingsMap": {},
     "title": ""
    }
   },
   "outputs": [],
   "source": [
    "from databricks.sdk import WorkspaceClient\n",
    "\n",
    "messages = [{\"role\": \"user\", \"content\": \"How many columns there are in Genie?\"}]\n",
    "endpoint = f\"agents_{catalog}-{schema}-{model_name}\"\n",
    "\n",
    "w = WorkspaceClient()\n",
    "client = w.serving_endpoints.get_open_ai_client()\n",
    "response = client.chat.completions.create(model=endpoint, messages=messages)\n",
    "print(response.messages[-1]['content'])"
   ]
  },
  {
   "cell_type": "markdown",
   "metadata": {
    "application/vnd.databricks.v1+cell": {
     "cellMetadata": {},
     "inputWidgets": {},
     "nuid": "8f1e5143-e32c-4c03-8811-0968d566a27b",
     "showTitle": false,
     "tableResultSettingsMap": {},
     "title": ""
    }
   },
   "source": [
    "## And remember, vigirous testing and evaluation starts here!!! \n",
    "\n",
    "https://www.databricks.com/blog/introducing-enhanced-agent-evaluation"
   ]
  },
  {
   "cell_type": "code",
   "execution_count": 0,
   "metadata": {
    "application/vnd.databricks.v1+cell": {
     "cellMetadata": {},
     "inputWidgets": {},
     "nuid": "100992d1-3d03-4512-bc6e-02503ddb8166",
     "showTitle": false,
     "tableResultSettingsMap": {},
     "title": ""
    }
   },
   "outputs": [],
   "source": [
    "#your tests & evaluations. Databricks offers great out-of-the-box solutions as well."
   ]
  }
 ],
 "metadata": {
  "application/vnd.databricks.v1+notebook": {
   "computePreferences": null,
   "dashboards": [],
   "environmentMetadata": {
    "base_environment": "",
    "environment_version": "2"
   },
   "inputWidgetPreferences": null,
   "language": "python",
   "notebookMetadata": {
    "pythonIndentUnit": 4
   },
   "notebookName": "driver",
   "widgets": {}
  },
  "language_info": {
   "name": "python"
  }
 },
 "nbformat": 4,
 "nbformat_minor": 0
}
